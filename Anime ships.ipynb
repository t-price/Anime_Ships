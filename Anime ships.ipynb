{
 "cells": [
  {
   "cell_type": "markdown",
   "id": "26e29756",
   "metadata": {},
   "source": [
    "# Anime Ships\n",
    "    Name: Alex Kimball\n",
    "    email: alejandro.kimball@utah.edu\n",
    "    Uid: U1195729\n",
    "\n",
    "    Name: Jacky Irwin\n",
    "    email: jacklynn.irwin@utah.edu\n",
    "    Uid: U1109492\n",
    "\n",
    "    Name: Tessa Price\n",
    "    email: tessa.price@utah.edu\n",
    "    Uid: U0731478"
   ]
  },
  {
   "cell_type": "markdown",
   "id": "a0879396",
   "metadata": {},
   "source": [
    "# MHA SHIPS\n",
    "\n",
    "### Background and Motivation:\n",
    "\n",
    "Reading and watching stories unfold is a past time that many people enjoy. People tend to enjoy gathering and discussing these stories that they are fan of. Every once in a while someone will come up Fanfic, spin off stories of their fandom, and share their stories with others. These stories tend to discuss their favorite pairing of characters or which pating that they wish would come to fruition, which is known as 'shipping' or 'ships'. It is intresting to see how the ships shift or are embraced as the initial story develops further. One of the biggest fandoms that are in the Anime scene right now is *My Hero Academia/Boku no Hero Academia.*"
   ]
  },
  {
   "cell_type": "markdown",
   "id": "5ff623aa",
   "metadata": {},
   "source": [
    "### Project Objective:\n",
    "\n",
    "**Primary Questions:** What are the characters that have the highest number of ships? Which characters are discussed the most within the fandom? Is there any correlation within the ships? Is there spikes in the data relating to the release date of new chapters or episodes?\n",
    "\n",
    "**Want to Learn:** We would like to learn if there are any discernible patterns to be analyzed from the fandom data that could be beneficial for the authors of the fandom and the original anime for future stories, both fanfiction and original.\n",
    "\n",
    "**Benefits:** Finding out what kind of characters are favored and when the spikes are allow authors to improve the stories based on what is more popular with the readers. It can also aid them in figuring out what audience they are reaching.\n",
    "For example: *Star Wars: Clone Wars* was originally targeted towards children. Though through research they found that there was a large number of adults who were watching the show. This allowed them to make changes to the script of the story line to make it more enjoyable for those who were watching."
   ]
  },
  {
   "cell_type": "markdown",
   "id": "48fdd0a5",
   "metadata": {},
   "source": [
    "### Data:\n",
    "\n",
    "We are planning on collecting data from AO3[1],  Wiki My hero episodes[2], and Wiki My hero chapters [3]."
   ]
  },
  {
   "cell_type": "markdown",
   "id": "f0664dad",
   "metadata": {},
   "source": [
    "### Ethical Considerations:\n",
    "\n",
    "The stakeholders in this project include authors, script, writers, fans, viewers of the anime, readers of the manga, animators, publishers, and directors."
   ]
  },
  {
   "cell_type": "markdown",
   "id": "fdf81128",
   "metadata": {},
   "source": [
    "### Data Processing:\n",
    "\n",
    "We are expecting that there will be a fair amount of data extraction. For the beginning of this project we will have to utilize web scraping to access the data the we need from the websites that we are retrieving our information from. This also may mean that we will have a decient amount of data cleanup depending on what data is available and readily accessible. We will be performing descriptive statistics on the data that we collect to determin if there are outliers and if our data is normally distributed."
   ]
  },
  {
   "cell_type": "markdown",
   "id": "01347432",
   "metadata": {},
   "source": [
    "### Analysis:\n",
    "\n",
    "**Exploratory Analysis:** We are planning to use histogram, pie chart, box plot, line graph, and a decision tree. It also may be intresting to see what relationship correlation there is with a heat map.\n",
    "\n",
    "**Analysis Methodology:** We are planing on analyzing the data with summaries, and a statistical chart."
   ]
  },
  {
   "cell_type": "markdown",
   "id": "22cffeb6",
   "metadata": {},
   "source": [
    "### Project Schedule\n",
    "\n",
    "**3/14 - 3/16:** Creating project proposal.\n",
    "\n",
    "**3/17:** Edit proposal and turn in.\n",
    "\n",
    "**3/18 - 3/20:** Gathering data and review the data.\n",
    "\n",
    "**3/21:** Have the Null and Alternative hypothesis solidified.\n",
    "\n",
    "**3/22 - 3/29:** Data Cleaning.\n",
    "\n",
    "**3/30 - 4/2:** Data Analysis.\n",
    "\n",
    "**4/3 - 4/4:** Clean up Milestone Report.\n",
    "\n",
    "**4/5:** Turn in Milestone Report.\n",
    "\n",
    "**4/6 - 4/9:** Exploratory Analysis.\n",
    "\n",
    "**4/10 - 4/12:** Analysis of Data.\n",
    "\n",
    "**4/13 - 4/16:** Clean up information, conclusion.\n",
    "\n",
    "**4/17 - 4/20:** Edit project and add final touches.\n",
    "\n",
    "**4/21:** Turn in the final project."
   ]
  },
  {
   "cell_type": "markdown",
   "id": "467d8aa9",
   "metadata": {},
   "source": [
    "### References\n",
    "\n",
    "https://archiveofourown.org/tags/僕のヒーローアカデミア%20%7C%20Boku%20no%20Hero%20Academia%20%7C%20My%20Hero%20Academia%20(Anime%20*a*%20Manga)/works [1]\n",
    "\n",
    "https://en.wikipedia.org/wiki/List_of_My_Hero_Academia_episodes [2]\n",
    "\n",
    "https://en.wikipedia.org/wiki/List_of_My_Hero_Academia_chapters [3]"
   ]
  }
 ],
 "metadata": {
  "kernelspec": {
   "display_name": "Python 3 (ipykernel)",
   "language": "python",
   "name": "python3"
  },
  "language_info": {
   "codemirror_mode": {
    "name": "ipython",
    "version": 3
   },
   "file_extension": ".py",
   "mimetype": "text/x-python",
   "name": "python",
   "nbconvert_exporter": "python",
   "pygments_lexer": "ipython3",
   "version": "3.9.13"
  }
 },
 "nbformat": 4,
 "nbformat_minor": 5
}
