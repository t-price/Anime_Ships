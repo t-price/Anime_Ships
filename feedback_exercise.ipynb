{
 "cells": [
  {
   "cell_type": "markdown",
   "id": "56ac04b3",
   "metadata": {},
   "source": [
    "# Peer Review Feedback Exercise "
   ]
  },
  {
   "cell_type": "markdown",
   "id": "107f64fa",
   "metadata": {},
   "source": [
    "We recieved feedback from Taryn Rahman, Christa Shorter, and Ed Liu. "
   ]
  },
  {
   "cell_type": "markdown",
   "id": "f6ba7c3b",
   "metadata": {},
   "source": [
    "   For our feedback they thought our topic is interesting and suitable for the class. We are keeping our scope to one anime show, and they thought that was appropriate. They were concerned we hadn't fine-tuned our optional and must-have features, we didn't have those ready yet because we had just barely started web-scraping the data. We have figured those out now and our must-have features are: [][][][][][][][] and our optional features are: [][][][][][][][]. Our stakeholder analysis was comprehensive with specific ethical issues."
   ]
  },
  {
   "cell_type": "markdown",
   "id": "b2954c9b",
   "metadata": {},
   "source": [
    "We let our peer reviewers know that there are other people who have done a similar project that we could refer to if we hit a roadblock or ask instructors for help, so our data acquisition plan is realistic. The acquisition of the data will be significant, there is no existing dataset to refer to. The clean-up should be a moderate amount due to the web-scraping we had to do, but it shouldn't be more than what was taught in class.  There will be enough data for the stated objectives because even though we are only analyzing one show, there are six seasons of the show and over [5,000?] fanfictions written. "
   ]
  },
  {
   "cell_type": "markdown",
   "id": "0bbd2d3a",
   "metadata": {},
   "source": [
    "Our reviewers thought that we could utilize a correlation matrix on the variables for part of our analysis method. They also recommended we try a predictive analysis if we try to draw any conclusions from the data, such as seeing if we can predict a spike in viewership based on the current data."
   ]
  },
  {
   "cell_type": "code",
   "execution_count": null,
   "id": "0d408a3b",
   "metadata": {},
   "outputs": [],
   "source": []
  }
 ],
 "metadata": {
  "kernelspec": {
   "display_name": "Python 3 (ipykernel)",
   "language": "python",
   "name": "python3"
  },
  "language_info": {
   "codemirror_mode": {
    "name": "ipython",
    "version": 3
   },
   "file_extension": ".py",
   "mimetype": "text/x-python",
   "name": "python",
   "nbconvert_exporter": "python",
   "pygments_lexer": "ipython3",
   "version": "3.9.13"
  }
 },
 "nbformat": 4,
 "nbformat_minor": 5
}
