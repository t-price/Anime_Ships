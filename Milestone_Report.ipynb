{
 "cells": [
  {
   "cell_type": "markdown",
   "id": "2b871fe7",
   "metadata": {},
   "source": [
    "# Milestone Report"
   ]
  },
  {
   "cell_type": "markdown",
   "id": "27491ec5",
   "metadata": {},
   "source": [
    "##### Jacky Irwin: u1109492\n",
    "##### Alex Kimball: u1195729\n",
    "##### Tessa Price: u0731478"
   ]
  },
  {
   "cell_type": "markdown",
   "id": "d67585ec",
   "metadata": {},
   "source": [
    "#### Project Description:\n"
   ]
  },
  {
   "cell_type": "markdown",
   "id": "edd9f0e3",
   "metadata": {},
   "source": [
    " The goal of this project is to gather and analyze data on *My Hero Academia* and its related fanfiction writings by web-scraping Archive of Our Own, *My Hero Academia* Episodes Wikipedia page, and *My Hero Academia* Chapters Wikipedia page. The data will include information on any \"ships\" from the fanfictions, the number of fanfiction writings published during different periods of time, the \"hits\" a fanfiction receives, \"kudos\" for the fanfiction, the characters in the show, the viewership ratings, original air date, English air date, titles of the episodes, and the season of the episodes. By analyzing this data, we aim to identify discernible patterns or trends that indicate increases in \"hits,\" based on the character \"ships\" in the fanfiction. We also aim to find if there are increases in fanfictions being written or changes in the fan \"ships\" when the show is released. This information can be used by producers and writers to understand the impact of their work on the audience and to make decisions about the future of *My Hero Academia*."
   ]
  },
  {
   "cell_type": "markdown",
   "id": "b39ef9a8",
   "metadata": {},
   "source": [
    "#### Data and data description:\n"
   ]
  },
  {
   "cell_type": "markdown",
   "id": "28d9cf48",
   "metadata": {},
   "source": [
    "We have data from all the current seasons of *My Hero Academia* anime, there are a total of six seasons. It has been cleaned of unnecessary columns and rows. The dates have been converted to pandas datetime format to be usable for analysis. The six seasons have 11 columns: No.overall (Overall number in the whole anime series), the No.inseason (Episode number), Title, Storyboarded by, Directed by, Written by, Original air date, English air date, Viewership rating, Original_Air_Date (pandas datetime format), and English_Air_Date (pandas datatime format). This web-scrape also included the original air date of the seasons with six columns: Season, Episodes, First aired, Last aired, First_Aired (pandas datatime format), Last_Aired (pandas datatime format). \n",
    "\n",
    "We have data for the origiginal video animation release with 7 columns: No., Title, Storyboard by, Directed by, Written by, Original release date, and Original_Release_Date (pandas datetime format). There is also the Japan Home Video data with 5 columns: Season, Volume, Episodes, Release date, and Release_Date (pandas datetime format). \n",
    "\n",
    "There is also data from the release of the funimation/crunchyroll in the North America Region, the Univeral Pictures UK release, and Universal Sony/Madman Entertainment for Australia and New Zealand. They all have five columns for Season, Volume, Episodes, Release Date, and Release_Date (pandas datetime format). The New Zealand release (Madman) has an extra column, because some were released at different dates from the Universal Sony release. \n",
    "\n",
    "We have all the current works of the *My Hero Academia* manga, there are a total of 37 volumes. The manga data has been cleaned of unnecessary columns and rows. The dates have been converted to pandas datetime format to be usable for analysis. The cleaned manga dataframe has 6 columns: No., Title, Original release date, English release date, Original_Release_Date (pandas datetime), and English_Release_Date (pandas datetime).\n",
    "\n",
    "Currently all of the columns, except the ones converted to datetime, are of the class object. Until we know what type of analysis we start doing we didn't want to convert them.\n",
    "\n",
    "We scraped 2,000 fanfictions from Archive of Our Own. The scraped fanfictions has not been cleaned yet. To filter through the fanfictions we scraped a list of characters from *My Hero Academia*."
   ]
  },
  {
   "cell_type": "markdown",
   "id": "c959fbdd",
   "metadata": {},
   "source": [
    "#### Ethical data concerns:\n"
   ]
  },
  {
   "cell_type": "markdown",
   "id": "31e9a97b",
   "metadata": {},
   "source": [
    "There are several ethical data concerns that need to be considered for our project. Firstly web-scraping can be illegal. We checked the website's terms, Wikipedia and Archive of Our Own, and they do not mention web-scraping, but there are a multitude of examples and walk-throughs to web-scrape from these websites and neither offer separate API's to web-scrape. Secondly, we have to consider the privacy of the users writing the fanfictions and ensure we are protecting their privacy. Any identifiable personal information will be made anonymous if we scrape it, such as usernames. Thirdly, we must make sure we only use this data for our project as outlined and that we don't use it for any other purpose. Lastly, the results of our analysis must be presented in a way that does not harm any individuals or communities from the *My Hero Academia* fanbase or authors, such as perpetuating harmful stereotypes or biases. We will do this by analyzing the data objectively and any conclusions we make are drawn based solely on the data and not on preconceived notions or biases. "
   ]
  },
  {
   "cell_type": "markdown",
   "id": "8b416ee2",
   "metadata": {},
   "source": [
    "#### Methods:"
   ]
  },
  {
   "cell_type": "markdown",
   "id": "a71ce773",
   "metadata": {},
   "source": [
    "We plan on performing some descriptive statistics on the occurrences of the characters in the fanfictions. We would like to determine the frequency they occur in comparison to each other.\n",
    "\n",
    "We will do a correlation matrix based on the fanfiction \"ships,\" the \"hits\" for the fanfiction, the characters in *My Hero Academia*, the fanfiction publication dates, and the original air dates of the episodes and chapters.  We plan to use this correlation matrix to find the most desirable parameters for further testing. \n",
    "\n",
    "If feasible and the data meets the assumptions with the 2,000 fanfictions scraped we would like to create a linear regression model to predict \"hits\" based on characters in the \"ships\" and original air dates. We will try a multi-linear regression to find the best dependent variable that could predict our independent variable, \"hits\". Using linear regression the models will hopefully be able to estimate the probability of the fanfiction receiving more views based on the presence of a specific character. \n",
    "\n",
    "We could also use K-means clustering method to find associations between fanfiction \"hits\" and character \"ships\" happening in the fanfictions. This test can help us determine if there are patterns with fanfiction \"ships\" and \"hits\" of the fanfiction based on the presence of a specific *My Hero Academia*. It could also tell us if there is are patterns with anime or manga release dates and increases the chance of a character showing up in fanfictions.\n",
    "\n",
    "The Python libraries we plan to use are pandas, scipy, numpy, statsmodels, sklearn, matplotlib, seaborn, and we used beautiful soup to web-scrape."
   ]
  },
  {
   "cell_type": "markdown",
   "id": "ee443e92",
   "metadata": {},
   "source": [
    "#### Preliminary results:\n"
   ]
  },
  {
   "cell_type": "markdown",
   "id": "d4088ae0",
   "metadata": {},
   "source": [
    "Our preliminary results mainly deal with collecting the data via web-scraping. We have completed the web-scrapes for the manga chapters data, anime episode data, Archive of Our Own fanfiction data, and the list of characters of the series *My Hero Academia*. \n",
    "\n",
    "We are about one-third of the way done with cleaning the data. We have cleaned the manga chapters data, anime episodes data, and the list of characters data. We still need to complete the cleaning for the Archive of Our Own fanfiction data, and it is the larger bulk of data to be cleaned.\n",
    "\n",
    "Considering the time we scraped the fanfictions we expect most of the fanfiction stories to be about or center around season six of *My Hero Academia* anime. \n",
    "\n",
    "We used beautiful soup to gather and access the data, utilizing the html.parser function. We used pandas to clean the data of unnecessary items and to obtain the correct format for the columns."
   ]
  },
  {
   "cell_type": "markdown",
   "id": "13b9e21a",
   "metadata": {},
   "source": [
    "#### Peer feedback:"
   ]
  },
  {
   "cell_type": "markdown",
   "id": "b0485e74",
   "metadata": {},
   "source": [
    "We received feedback from Taryn Rahman, Christa Shorter, and Ed Liu. "
   ]
  },
  {
   "cell_type": "markdown",
   "id": "d7de3843",
   "metadata": {},
   "source": [
    "   For our feedback they thought our topic is interesting and suitable for the class. We are keeping our scope to one anime show, and they thought that was appropriate. They were concerned we hadn't fine-tuned our optional and must-have features, we didn't have those ready yet because we had just barely started web-scraping the data. We have figured the features we want now and our must-have features are: \"ships\" from the fanfictions, the \"hits\" the fanfiction receives, the publish date of the fanfiction, and original air dates episodes and chapters. Our optional features are: the characters involved, viewership ratings, titles of the episode or chapters. Our stakeholder analysis was comprehensive with specific ethical issues.\n",
    "\n",
    "   We let our peer reviewers know that there are other people who have done a similar project that we could refer to if we hit a roadblock or ask instructors for help, so our data acquisition plan is realistic. The acquisition of the data will be significant, there is no existing dataset to refer to. The clean-up should be a moderate amount due to the web-scraping we had to do, but it shouldn't be more than what was taught in class.  There will be enough data for the stated objectives because even though we are only analyzing one show, there are six seasons of the show and we scraped 2,000 fanfictions.\n",
    "\n",
    "   Our reviewers thought that we could utilize a correlation matrix on the variables for part of our analysis method. They also recommended we try a predictive analysis if we try to draw any conclusions from the data, such as seeing if we can predict a spike in viewership based on the current data."
   ]
  },
  {
   "cell_type": "markdown",
   "id": "4bd7ea54",
   "metadata": {},
   "source": [
    "#### A list of completed milestones:"
   ]
  },
  {
   "cell_type": "markdown",
   "id": "93745b69",
   "metadata": {},
   "source": [
    "-Gathered the required data from the Wikipedia Anime and Manga pages. <br>\n",
    "-Cleaned the data from the Wikipedia Anime and Manga pages. <br>\n",
    "-Gathered the required data from Archive of Our Own. <br>\n",
    "-Gathered list of characters. <br>"
   ]
  },
  {
   "cell_type": "markdown",
   "id": "e7029a84",
   "metadata": {},
   "source": [
    "#### A list of upcoming milestones:"
   ]
  },
  {
   "cell_type": "markdown",
   "id": "9d0a59b1",
   "metadata": {},
   "source": [
    "-Clean the Archive of Our Own data. <br>\n",
    "-Perform descriptive statistics for the occurrences of characters in the fanfictions. <br>\n",
    "-Create correlation matrix with all the parameters. <br>\n",
    "-Find most desirable parameters to ascertain an association between characters in fanfiction writings and \"hits.\" <br>\n",
    "-Find most desirable paramters to ascertain an association between characters in fanfiction writings and anime/manga air dates. <br>"
   ]
  },
  {
   "cell_type": "markdown",
   "id": "b7f58729",
   "metadata": {},
   "source": [
    "#### Potential modification to the project, justification, and updated milestones: (OPTIONAL)"
   ]
  },
  {
   "cell_type": "markdown",
   "id": "d775c2ae",
   "metadata": {},
   "source": [
    " While working together to make this milestone report we realized we should obtain a character list for the show *My Hero Academia*, so we obtained that before we submitted this assignment."
   ]
  },
  {
   "cell_type": "markdown",
   "id": "68d4ef13",
   "metadata": {},
   "source": [
    "#### Summary:\n"
   ]
  },
  {
   "cell_type": "markdown",
   "id": "a09fbe7a",
   "metadata": {},
   "source": [
    "This project involves web-scraping data for the popular show *My Hero Academia* and its related fanfiction writings to identify \"hits\" on the fanfiction based on the presence of a character in a \"ship.\" We have plans to use logistic models to potentially predict the chance of a fanfiction becoming more popular (obtaining more \"hits\") due to the presence of the character or character \"ship. An additional analysis method would be chi-squared test to find associations between the anime or manga air dates and the occurrence of fanfictions written based on a character from that specific anime or manga."
   ]
  },
  {
   "cell_type": "markdown",
   "id": "25904a5c",
   "metadata": {},
   "source": [
    "#### Assessment:"
   ]
  },
  {
   "cell_type": "markdown",
   "id": "1e653461",
   "metadata": {},
   "source": [
    "We are making progress, but are not where we wanted to be at this point in time. "
   ]
  }
 ],
 "metadata": {
  "kernelspec": {
   "display_name": "Python 3 (ipykernel)",
   "language": "python",
   "name": "python3"
  },
  "language_info": {
   "codemirror_mode": {
    "name": "ipython",
    "version": 3
   },
   "file_extension": ".py",
   "mimetype": "text/x-python",
   "name": "python",
   "nbconvert_exporter": "python",
   "pygments_lexer": "ipython3",
   "version": "3.9.13"
  }
 },
 "nbformat": 4,
 "nbformat_minor": 5
}
